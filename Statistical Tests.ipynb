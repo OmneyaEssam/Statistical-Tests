{
 "cells": [
  {
   "cell_type": "markdown",
   "metadata": {},
   "source": [
    "# Chi-square\n",
    "### The Chi-square test of independence determines if there is a significant relationship between two categorical (i.e. nominal or ordinal) (with two or more mutually exclusive groups) variables. Hence, the null hypothesis is that no relationship exists between the two variables.\n",
    "* Non-parametric; does not require assumptions about population parameters\n",
    "* Compares difference in population proportions between groups\n",
    "* Contingency table of observed values is required.\n",
    "### It is a test to indicate if the variables are related (i.e. correlated). If they are correlated, we can use the phi coefficient to further determine the strength of the correlation.\n",
    "* The Chi-square test is sensitive to sample size (i.e. asymptotic)\n",
    "* As the sample size increases, the absolute differences become a smaller proportion of the expected value.\n",
    "* The outcome is that a strong association may not surface if sample size is small.\n",
    "* In large sample sizes, statistical significance may surface while the association is not substantial (i.e. very weak)"
   ]
  },
  {
   "cell_type": "markdown",
   "metadata": {},
   "source": [
    "## Building of the Corrected Cramer's V function\n",
    "\n"
   ]
  },
  {
   "cell_type": "markdown",
   "metadata": {},
   "source": [
    "# Cramer’s V\n",
    "### Useful to determine the strength of a relationship between categorical variables. Linking the discussion back to Chi-square, assuming a low p-value; presence of dependence(statistically significant dependence between variables). The Cramer V’s helps indicate the strength of this dependence. Would be useful in situations where a statistically significant chi-square could be the result of large sample size instead of substantive relationship between the variables.\n",
    "* robust against large sample size\n",
    "* compares the strength of relationship between two categorical variables\n",
    "* variables should have two or more unique values per category\n",
    "* if there are only two unique measurement levels, it is the same as Phi Coefficient\n",
    "* the coefficient ranges from 0 to 1"
   ]
  },
  {
   "cell_type": "code",
   "execution_count": 204,
   "metadata": {},
   "outputs": [
    {
     "data": {
      "text/html": [
       "<div>\n",
       "<style scoped>\n",
       "    .dataframe tbody tr th:only-of-type {\n",
       "        vertical-align: middle;\n",
       "    }\n",
       "\n",
       "    .dataframe tbody tr th {\n",
       "        vertical-align: top;\n",
       "    }\n",
       "\n",
       "    .dataframe thead th {\n",
       "        text-align: right;\n",
       "    }\n",
       "</style>\n",
       "<table border=\"1\" class=\"dataframe\">\n",
       "  <thead>\n",
       "    <tr style=\"text-align: right;\">\n",
       "      <th></th>\n",
       "      <th>gender</th>\n",
       "      <th>Partner</th>\n",
       "      <th>Dependents</th>\n",
       "      <th>PhoneService</th>\n",
       "      <th>MultipleLines</th>\n",
       "      <th>InternetService</th>\n",
       "      <th>OnlineSecurity</th>\n",
       "      <th>OnlineBackup</th>\n",
       "      <th>DeviceProtection</th>\n",
       "      <th>TechSupport</th>\n",
       "      <th>StreamingTV</th>\n",
       "      <th>StreamingMovies</th>\n",
       "      <th>Contract</th>\n",
       "      <th>PaperlessBilling</th>\n",
       "      <th>PaymentMethod</th>\n",
       "    </tr>\n",
       "  </thead>\n",
       "  <tbody>\n",
       "    <tr>\n",
       "      <th>gender</th>\n",
       "      <td>1.0</td>\n",
       "      <td>0.00</td>\n",
       "      <td>0.00</td>\n",
       "      <td>0.00</td>\n",
       "      <td>0.00</td>\n",
       "      <td>0.00</td>\n",
       "      <td>0.00</td>\n",
       "      <td>0.00</td>\n",
       "      <td>0.00</td>\n",
       "      <td>0.00</td>\n",
       "      <td>0.00</td>\n",
       "      <td>0.00</td>\n",
       "      <td>0.00</td>\n",
       "      <td>0.00</td>\n",
       "      <td>0.00</td>\n",
       "    </tr>\n",
       "    <tr>\n",
       "      <th>Partner</th>\n",
       "      <td>0.0</td>\n",
       "      <td>1.00</td>\n",
       "      <td>0.20</td>\n",
       "      <td>0.00</td>\n",
       "      <td>0.02</td>\n",
       "      <td>0.00</td>\n",
       "      <td>0.02</td>\n",
       "      <td>0.02</td>\n",
       "      <td>0.03</td>\n",
       "      <td>0.02</td>\n",
       "      <td>0.02</td>\n",
       "      <td>0.02</td>\n",
       "      <td>0.09</td>\n",
       "      <td>0.00</td>\n",
       "      <td>0.03</td>\n",
       "    </tr>\n",
       "    <tr>\n",
       "      <th>Dependents</th>\n",
       "      <td>0.0</td>\n",
       "      <td>0.20</td>\n",
       "      <td>1.00</td>\n",
       "      <td>0.00</td>\n",
       "      <td>0.00</td>\n",
       "      <td>0.03</td>\n",
       "      <td>0.04</td>\n",
       "      <td>0.03</td>\n",
       "      <td>0.03</td>\n",
       "      <td>0.03</td>\n",
       "      <td>0.02</td>\n",
       "      <td>0.02</td>\n",
       "      <td>0.06</td>\n",
       "      <td>0.01</td>\n",
       "      <td>0.02</td>\n",
       "    </tr>\n",
       "    <tr>\n",
       "      <th>PhoneService</th>\n",
       "      <td>0.0</td>\n",
       "      <td>0.00</td>\n",
       "      <td>0.00</td>\n",
       "      <td>1.00</td>\n",
       "      <td>1.00</td>\n",
       "      <td>0.20</td>\n",
       "      <td>0.03</td>\n",
       "      <td>0.03</td>\n",
       "      <td>0.03</td>\n",
       "      <td>0.03</td>\n",
       "      <td>0.03</td>\n",
       "      <td>0.03</td>\n",
       "      <td>0.00</td>\n",
       "      <td>0.00</td>\n",
       "      <td>0.00</td>\n",
       "    </tr>\n",
       "    <tr>\n",
       "      <th>MultipleLines</th>\n",
       "      <td>0.0</td>\n",
       "      <td>0.02</td>\n",
       "      <td>0.00</td>\n",
       "      <td>1.00</td>\n",
       "      <td>1.00</td>\n",
       "      <td>0.16</td>\n",
       "      <td>0.05</td>\n",
       "      <td>0.06</td>\n",
       "      <td>0.06</td>\n",
       "      <td>0.05</td>\n",
       "      <td>0.07</td>\n",
       "      <td>0.07</td>\n",
       "      <td>0.01</td>\n",
       "      <td>0.03</td>\n",
       "      <td>0.03</td>\n",
       "    </tr>\n",
       "    <tr>\n",
       "      <th>InternetService</th>\n",
       "      <td>0.0</td>\n",
       "      <td>0.00</td>\n",
       "      <td>0.03</td>\n",
       "      <td>0.20</td>\n",
       "      <td>0.16</td>\n",
       "      <td>1.00</td>\n",
       "      <td>0.52</td>\n",
       "      <td>0.50</td>\n",
       "      <td>0.50</td>\n",
       "      <td>0.52</td>\n",
       "      <td>0.51</td>\n",
       "      <td>0.51</td>\n",
       "      <td>0.04</td>\n",
       "      <td>0.14</td>\n",
       "      <td>0.10</td>\n",
       "    </tr>\n",
       "    <tr>\n",
       "      <th>OnlineSecurity</th>\n",
       "      <td>0.0</td>\n",
       "      <td>0.02</td>\n",
       "      <td>0.04</td>\n",
       "      <td>0.03</td>\n",
       "      <td>0.05</td>\n",
       "      <td>0.52</td>\n",
       "      <td>1.00</td>\n",
       "      <td>0.52</td>\n",
       "      <td>0.51</td>\n",
       "      <td>0.54</td>\n",
       "      <td>0.50</td>\n",
       "      <td>0.50</td>\n",
       "      <td>0.09</td>\n",
       "      <td>0.12</td>\n",
       "      <td>0.09</td>\n",
       "    </tr>\n",
       "    <tr>\n",
       "      <th>OnlineBackup</th>\n",
       "      <td>0.0</td>\n",
       "      <td>0.02</td>\n",
       "      <td>0.03</td>\n",
       "      <td>0.03</td>\n",
       "      <td>0.06</td>\n",
       "      <td>0.50</td>\n",
       "      <td>0.52</td>\n",
       "      <td>1.00</td>\n",
       "      <td>0.52</td>\n",
       "      <td>0.52</td>\n",
       "      <td>0.51</td>\n",
       "      <td>0.51</td>\n",
       "      <td>0.07</td>\n",
       "      <td>0.10</td>\n",
       "      <td>0.08</td>\n",
       "    </tr>\n",
       "    <tr>\n",
       "      <th>DeviceProtection</th>\n",
       "      <td>0.0</td>\n",
       "      <td>0.03</td>\n",
       "      <td>0.03</td>\n",
       "      <td>0.03</td>\n",
       "      <td>0.06</td>\n",
       "      <td>0.50</td>\n",
       "      <td>0.51</td>\n",
       "      <td>0.52</td>\n",
       "      <td>1.00</td>\n",
       "      <td>0.53</td>\n",
       "      <td>0.54</td>\n",
       "      <td>0.54</td>\n",
       "      <td>0.09</td>\n",
       "      <td>0.10</td>\n",
       "      <td>0.08</td>\n",
       "    </tr>\n",
       "    <tr>\n",
       "      <th>TechSupport</th>\n",
       "      <td>0.0</td>\n",
       "      <td>0.02</td>\n",
       "      <td>0.03</td>\n",
       "      <td>0.03</td>\n",
       "      <td>0.05</td>\n",
       "      <td>0.52</td>\n",
       "      <td>0.54</td>\n",
       "      <td>0.52</td>\n",
       "      <td>0.53</td>\n",
       "      <td>1.00</td>\n",
       "      <td>0.51</td>\n",
       "      <td>0.51</td>\n",
       "      <td>0.11</td>\n",
       "      <td>0.11</td>\n",
       "      <td>0.09</td>\n",
       "    </tr>\n",
       "    <tr>\n",
       "      <th>StreamingTV</th>\n",
       "      <td>0.0</td>\n",
       "      <td>0.02</td>\n",
       "      <td>0.02</td>\n",
       "      <td>0.03</td>\n",
       "      <td>0.07</td>\n",
       "      <td>0.51</td>\n",
       "      <td>0.50</td>\n",
       "      <td>0.51</td>\n",
       "      <td>0.54</td>\n",
       "      <td>0.51</td>\n",
       "      <td>1.00</td>\n",
       "      <td>0.59</td>\n",
       "      <td>0.06</td>\n",
       "      <td>0.11</td>\n",
       "      <td>0.07</td>\n",
       "    </tr>\n",
       "    <tr>\n",
       "      <th>StreamingMovies</th>\n",
       "      <td>0.0</td>\n",
       "      <td>0.02</td>\n",
       "      <td>0.02</td>\n",
       "      <td>0.03</td>\n",
       "      <td>0.07</td>\n",
       "      <td>0.51</td>\n",
       "      <td>0.50</td>\n",
       "      <td>0.51</td>\n",
       "      <td>0.54</td>\n",
       "      <td>0.51</td>\n",
       "      <td>0.59</td>\n",
       "      <td>1.00</td>\n",
       "      <td>0.06</td>\n",
       "      <td>0.11</td>\n",
       "      <td>0.07</td>\n",
       "    </tr>\n",
       "    <tr>\n",
       "      <th>Contract</th>\n",
       "      <td>0.0</td>\n",
       "      <td>0.09</td>\n",
       "      <td>0.06</td>\n",
       "      <td>0.00</td>\n",
       "      <td>0.01</td>\n",
       "      <td>0.04</td>\n",
       "      <td>0.09</td>\n",
       "      <td>0.07</td>\n",
       "      <td>0.09</td>\n",
       "      <td>0.11</td>\n",
       "      <td>0.06</td>\n",
       "      <td>0.06</td>\n",
       "      <td>1.00</td>\n",
       "      <td>0.03</td>\n",
       "      <td>0.07</td>\n",
       "    </tr>\n",
       "    <tr>\n",
       "      <th>PaperlessBilling</th>\n",
       "      <td>0.0</td>\n",
       "      <td>0.00</td>\n",
       "      <td>0.01</td>\n",
       "      <td>0.00</td>\n",
       "      <td>0.03</td>\n",
       "      <td>0.14</td>\n",
       "      <td>0.12</td>\n",
       "      <td>0.10</td>\n",
       "      <td>0.10</td>\n",
       "      <td>0.11</td>\n",
       "      <td>0.11</td>\n",
       "      <td>0.11</td>\n",
       "      <td>0.03</td>\n",
       "      <td>1.00</td>\n",
       "      <td>0.06</td>\n",
       "    </tr>\n",
       "    <tr>\n",
       "      <th>PaymentMethod</th>\n",
       "      <td>0.0</td>\n",
       "      <td>0.03</td>\n",
       "      <td>0.02</td>\n",
       "      <td>0.00</td>\n",
       "      <td>0.03</td>\n",
       "      <td>0.10</td>\n",
       "      <td>0.09</td>\n",
       "      <td>0.08</td>\n",
       "      <td>0.08</td>\n",
       "      <td>0.09</td>\n",
       "      <td>0.07</td>\n",
       "      <td>0.07</td>\n",
       "      <td>0.07</td>\n",
       "      <td>0.06</td>\n",
       "      <td>1.00</td>\n",
       "    </tr>\n",
       "  </tbody>\n",
       "</table>\n",
       "</div>"
      ],
      "text/plain": [
       "                  gender  Partner  Dependents  PhoneService  MultipleLines  \\\n",
       "gender               1.0     0.00        0.00          0.00           0.00   \n",
       "Partner              0.0     1.00        0.20          0.00           0.02   \n",
       "Dependents           0.0     0.20        1.00          0.00           0.00   \n",
       "PhoneService         0.0     0.00        0.00          1.00           1.00   \n",
       "MultipleLines        0.0     0.02        0.00          1.00           1.00   \n",
       "InternetService      0.0     0.00        0.03          0.20           0.16   \n",
       "OnlineSecurity       0.0     0.02        0.04          0.03           0.05   \n",
       "OnlineBackup         0.0     0.02        0.03          0.03           0.06   \n",
       "DeviceProtection     0.0     0.03        0.03          0.03           0.06   \n",
       "TechSupport          0.0     0.02        0.03          0.03           0.05   \n",
       "StreamingTV          0.0     0.02        0.02          0.03           0.07   \n",
       "StreamingMovies      0.0     0.02        0.02          0.03           0.07   \n",
       "Contract             0.0     0.09        0.06          0.00           0.01   \n",
       "PaperlessBilling     0.0     0.00        0.01          0.00           0.03   \n",
       "PaymentMethod        0.0     0.03        0.02          0.00           0.03   \n",
       "\n",
       "                  InternetService  OnlineSecurity  OnlineBackup  \\\n",
       "gender                       0.00            0.00          0.00   \n",
       "Partner                      0.00            0.02          0.02   \n",
       "Dependents                   0.03            0.04          0.03   \n",
       "PhoneService                 0.20            0.03          0.03   \n",
       "MultipleLines                0.16            0.05          0.06   \n",
       "InternetService              1.00            0.52          0.50   \n",
       "OnlineSecurity               0.52            1.00          0.52   \n",
       "OnlineBackup                 0.50            0.52          1.00   \n",
       "DeviceProtection             0.50            0.51          0.52   \n",
       "TechSupport                  0.52            0.54          0.52   \n",
       "StreamingTV                  0.51            0.50          0.51   \n",
       "StreamingMovies              0.51            0.50          0.51   \n",
       "Contract                     0.04            0.09          0.07   \n",
       "PaperlessBilling             0.14            0.12          0.10   \n",
       "PaymentMethod                0.10            0.09          0.08   \n",
       "\n",
       "                  DeviceProtection  TechSupport  StreamingTV  StreamingMovies  \\\n",
       "gender                        0.00         0.00         0.00             0.00   \n",
       "Partner                       0.03         0.02         0.02             0.02   \n",
       "Dependents                    0.03         0.03         0.02             0.02   \n",
       "PhoneService                  0.03         0.03         0.03             0.03   \n",
       "MultipleLines                 0.06         0.05         0.07             0.07   \n",
       "InternetService               0.50         0.52         0.51             0.51   \n",
       "OnlineSecurity                0.51         0.54         0.50             0.50   \n",
       "OnlineBackup                  0.52         0.52         0.51             0.51   \n",
       "DeviceProtection              1.00         0.53         0.54             0.54   \n",
       "TechSupport                   0.53         1.00         0.51             0.51   \n",
       "StreamingTV                   0.54         0.51         1.00             0.59   \n",
       "StreamingMovies               0.54         0.51         0.59             1.00   \n",
       "Contract                      0.09         0.11         0.06             0.06   \n",
       "PaperlessBilling              0.10         0.11         0.11             0.11   \n",
       "PaymentMethod                 0.08         0.09         0.07             0.07   \n",
       "\n",
       "                  Contract  PaperlessBilling  PaymentMethod  \n",
       "gender                0.00              0.00           0.00  \n",
       "Partner               0.09              0.00           0.03  \n",
       "Dependents            0.06              0.01           0.02  \n",
       "PhoneService          0.00              0.00           0.00  \n",
       "MultipleLines         0.01              0.03           0.03  \n",
       "InternetService       0.04              0.14           0.10  \n",
       "OnlineSecurity        0.09              0.12           0.09  \n",
       "OnlineBackup          0.07              0.10           0.08  \n",
       "DeviceProtection      0.09              0.10           0.08  \n",
       "TechSupport           0.11              0.11           0.09  \n",
       "StreamingTV           0.06              0.11           0.07  \n",
       "StreamingMovies       0.06              0.11           0.07  \n",
       "Contract              1.00              0.03           0.07  \n",
       "PaperlessBilling      0.03              1.00           0.06  \n",
       "PaymentMethod         0.07              0.06           1.00  "
      ]
     },
     "execution_count": 204,
     "metadata": {},
     "output_type": "execute_result"
    }
   ],
   "source": [
    "from scipy.stats import chi2_contingency\n",
    "\n",
    "def cramers_V(var1,var2) :\n",
    "    crosstab =np.array(pd.crosstab(var1,var2, rownames=None, colnames=None)) # Cross table building\n",
    "    stat = chi2_contingency(crosstab,correction=True)[0] # Keeping of the test statistic of the Chi2 test\n",
    "    obs = np.sum(crosstab) # Number of observations\n",
    "    mini = min(crosstab.shape)-1 # Take the minimum value between the columns and the rows of the cross table\n",
    "    return (stat/(obs*mini))\n",
    "\n",
    "rows= []\n",
    "\n",
    "for var1 in data_encoded:\n",
    "    col = []\n",
    "    for var2 in data_encoded :\n",
    "        cramers =cramers_V(data_encoded[var1], data_encoded[var2]) # Cramer's V test\n",
    "        col.append(round(cramers,2)) # Keeping of the rounded value of the Cramer's V  \n",
    "    rows.append(col)\n",
    "   \n",
    "cramers_results = np.array(rows)\n",
    "cramer_DF = pd.DataFrame(cramers_results, columns = data_encoded.columns, index =data_encoded.columns)\n",
    "cramer_DF"
   ]
  },
  {
   "cell_type": "code",
   "execution_count": 192,
   "metadata": {},
   "outputs": [
    {
     "data": {
      "text/html": [
       "<div>\n",
       "<style scoped>\n",
       "    .dataframe tbody tr th:only-of-type {\n",
       "        vertical-align: middle;\n",
       "    }\n",
       "\n",
       "    .dataframe tbody tr th {\n",
       "        vertical-align: top;\n",
       "    }\n",
       "\n",
       "    .dataframe thead th {\n",
       "        text-align: right;\n",
       "    }\n",
       "</style>\n",
       "<table border=\"1\" class=\"dataframe\">\n",
       "  <thead>\n",
       "    <tr style=\"text-align: right;\">\n",
       "      <th>DeviceProtection</th>\n",
       "      <th>No</th>\n",
       "      <th>No internet service</th>\n",
       "      <th>Yes</th>\n",
       "    </tr>\n",
       "    <tr>\n",
       "      <th>StreamingMovies</th>\n",
       "      <th></th>\n",
       "      <th></th>\n",
       "      <th></th>\n",
       "    </tr>\n",
       "  </thead>\n",
       "  <tbody>\n",
       "    <tr>\n",
       "      <th>No</th>\n",
       "      <td>1950</td>\n",
       "      <td>0</td>\n",
       "      <td>827</td>\n",
       "    </tr>\n",
       "    <tr>\n",
       "      <th>No internet service</th>\n",
       "      <td>0</td>\n",
       "      <td>1512</td>\n",
       "      <td>0</td>\n",
       "    </tr>\n",
       "    <tr>\n",
       "      <th>Yes</th>\n",
       "      <td>1137</td>\n",
       "      <td>0</td>\n",
       "      <td>1595</td>\n",
       "    </tr>\n",
       "  </tbody>\n",
       "</table>\n",
       "</div>"
      ],
      "text/plain": [
       "DeviceProtection       No  No internet service   Yes\n",
       "StreamingMovies                                     \n",
       "No                   1950                    0   827\n",
       "No internet service     0                 1512     0\n",
       "Yes                  1137                    0  1595"
      ]
     },
     "execution_count": 192,
     "metadata": {},
     "output_type": "execute_result"
    }
   ],
   "source": [
    "crosstab =pd.crosstab(data['StreamingMovies'],data['DeviceProtection'], rownames=None, colnames=None)\n",
    "crosstab"
   ]
  },
  {
   "cell_type": "code",
   "execution_count": 193,
   "metadata": {},
   "outputs": [],
   "source": [
    "crosstab =np.array(pd.crosstab(data['StreamingMovies'],data['DeviceProtection'], rownames=None, colnames=None))"
   ]
  },
  {
   "cell_type": "code",
   "execution_count": 203,
   "metadata": {},
   "outputs": [
    {
     "name": "stdout",
     "output_type": "stream",
     "text": [
      "chi-square statistic: 7603.816024490806\n",
      "p-value: 0.0\n",
      "degree of freedom: 4\n",
      "expected contingency table\n",
      "[[1220.99401795  598.03788634  957.96809571]\n",
      " [ 664.79760718  325.61515454  521.58723829]\n",
      " [1201.20837488  588.34695912  942.444666  ]]\n"
     ]
    }
   ],
   "source": [
    "# Details\n",
    "print(f'chi-square statistic: {chi2_contingency(crosstab)[0]}')\n",
    "print(f'p-value: {chi2_contingency(crosstab)[1]}')\n",
    "print(f'degree of freedom: {chi2_contingency(crosstab)[2]}')\n",
    "print('expected contingency table') \n",
    "print(chi2_contingency(crosstab)[3])"
   ]
  },
  {
   "cell_type": "markdown",
   "metadata": {},
   "source": [
    "# Phi Coefficient\n",
    "* compares the strength of the relationship between two categorical variables\n",
    "* variables only two unique measurement levels\n",
    "* the coefficient ranges from 0 to 1"
   ]
  },
  {
   "cell_type": "code",
   "execution_count": 205,
   "metadata": {},
   "outputs": [
    {
     "name": "stdout",
     "output_type": "stream",
     "text": [
      "Phi Coefficient: 0.735870369313615\n"
     ]
    }
   ],
   "source": [
    "n = np.sum(np.sum(crosstab))\n",
    "# minimum of rows & columns\n",
    "minshape = min(crosstab.shape)-1\n",
    "# Phi\n",
    "chisq_stat = chi2_contingency(crosstab)[0]\n",
    "Phi_ = np.sqrt( (chisq_stat/n)/minshape)\n",
    "print(f\"Phi Coefficient: {Phi_}\")"
   ]
  },
  {
   "cell_type": "markdown",
   "metadata": {},
   "source": [
    "# Point-biserial correlation\n",
    "* Used to measure the strength and direction of the association\n",
    "* between continuous & categorical variable"
   ]
  },
  {
   "cell_type": "markdown",
   "metadata": {},
   "source": [
    "# ANOVA\n",
    "* Compares the variance of continuous measures among multiple independent groups of variables\n",
    "* Categorical & continuous variable\n",
    "* can be as One-way or Two-way ANOVA\n",
    "* One-way ANOVA for instances where a variable consists of three or more independent levels of measurements."
   ]
  },
  {
   "cell_type": "code",
   "execution_count": 206,
   "metadata": {},
   "outputs": [],
   "source": [
    "# Create a dataframe with artifical values\n",
    "# Sector Ranking, SR1 to SR9, SR1 ranked highest (more than 3 groups)\n",
    "# Salary; continuous variable\n",
    "SRs = ['SR1', 'SR9', 'SR2', 'SR8', 'SR3', 'SR7', 'SR4', 'SR6', 'SR5',\n",
    "       'SR1', 'SR9'] \n",
    "Salary = [10000, 5000, 8000, 5500, 7500, 6000, 7000, 6500, 6800,\n",
    "          11000, 5100]\n",
    "rawData = pd.DataFrame({'ranks':SRs,\n",
    "                        'sal':Salary })"
   ]
  },
  {
   "cell_type": "code",
   "execution_count": 207,
   "metadata": {},
   "outputs": [
    {
     "ename": "NameError",
     "evalue": "name 'frame' is not defined",
     "output_type": "error",
     "traceback": [
      "\u001b[1;31m---------------------------------------------------------------------------\u001b[0m",
      "\u001b[1;31mNameError\u001b[0m                                 Traceback (most recent call last)",
      "\u001b[1;32m<ipython-input-207-f3226f966ff1>\u001b[0m in \u001b[0;36m<module>\u001b[1;34m\u001b[0m\n\u001b[0;32m      1\u001b[0m \u001b[1;31m# derive the groups (i.e. sector ranks)\u001b[0m\u001b[1;33m\u001b[0m\u001b[1;33m\u001b[0m\u001b[1;33m\u001b[0m\u001b[0m\n\u001b[1;32m----> 2\u001b[1;33m \u001b[0mgroups\u001b[0m \u001b[1;33m=\u001b[0m \u001b[0mpd\u001b[0m\u001b[1;33m.\u001b[0m\u001b[0munique\u001b[0m\u001b[1;33m(\u001b[0m\u001b[0mframe\u001b[0m\u001b[1;33m.\u001b[0m\u001b[0mranks\u001b[0m\u001b[1;33m.\u001b[0m\u001b[0mvalues\u001b[0m\u001b[1;33m)\u001b[0m\u001b[1;33m\u001b[0m\u001b[1;33m\u001b[0m\u001b[0m\n\u001b[0m\u001b[0;32m      3\u001b[0m \u001b[1;31m# Create a dictionary to hold respective salary of sector rank groups\u001b[0m\u001b[1;33m\u001b[0m\u001b[1;33m\u001b[0m\u001b[1;33m\u001b[0m\u001b[0m\n\u001b[0;32m      4\u001b[0m \u001b[0mstatData\u001b[0m \u001b[1;33m=\u001b[0m \u001b[1;33m{\u001b[0m\u001b[0mgrp\u001b[0m\u001b[1;33m:\u001b[0m \u001b[0mrawData\u001b[0m\u001b[1;33m[\u001b[0m\u001b[1;34m'sal'\u001b[0m\u001b[1;33m]\u001b[0m\u001b[1;33m[\u001b[0m\u001b[0mrawData\u001b[0m\u001b[1;33m[\u001b[0m\u001b[1;34m'ranks'\u001b[0m\u001b[1;33m]\u001b[0m \u001b[1;33m==\u001b[0m \u001b[0mgrp\u001b[0m\u001b[1;33m]\u001b[0m \u001b[1;32mfor\u001b[0m \u001b[0mgrp\u001b[0m \u001b[1;32min\u001b[0m \u001b[0mgroups\u001b[0m\u001b[1;33m}\u001b[0m\u001b[1;33m\u001b[0m\u001b[1;33m\u001b[0m\u001b[0m\n\u001b[0;32m      5\u001b[0m \u001b[0mstats\u001b[0m\u001b[1;33m.\u001b[0m\u001b[0mf_oneway\u001b[0m\u001b[1;33m(\u001b[0m\u001b[0mstatData\u001b[0m\u001b[1;33m[\u001b[0m\u001b[1;34m'SR1'\u001b[0m\u001b[1;33m]\u001b[0m\u001b[1;33m,\u001b[0m \u001b[0mstatData\u001b[0m\u001b[1;33m[\u001b[0m\u001b[1;34m'SR2'\u001b[0m\u001b[1;33m]\u001b[0m\u001b[1;33m,\u001b[0m \u001b[0mstatData\u001b[0m\u001b[1;33m[\u001b[0m\u001b[1;34m'SR9'\u001b[0m\u001b[1;33m]\u001b[0m\u001b[1;33m)\u001b[0m\u001b[1;33m\u001b[0m\u001b[1;33m\u001b[0m\u001b[0m\n",
      "\u001b[1;31mNameError\u001b[0m: name 'frame' is not defined"
     ]
    }
   ],
   "source": [
    "# derive the groups (i.e. sector ranks)\n",
    "groups = pd.unique(frame.ranks.values)\n",
    "# Create a dictionary to hold respective salary of sector rank groups\n",
    "statData = {grp: rawData['sal'][rawData['ranks'] == grp] for grp in groups}\n",
    "stats.f_oneway(statData['SR1'], statData['SR2'], statData['SR9'])"
   ]
  },
  {
   "cell_type": "markdown",
   "metadata": {},
   "source": [
    "# Z-test\n",
    "* Compares if two samples’ mean are different\n",
    "* not used if the sample size is less than 30\n",
    "* assumes sample are independent; follows normal distribution\n",
    "* mean may be unknown, variance is known"
   ]
  },
  {
   "cell_type": "code",
   "execution_count": 210,
   "metadata": {},
   "outputs": [
    {
     "name": "stdout",
     "output_type": "stream",
     "text": [
      "marketing median sal: 105.57074494667918 \n",
      "finance median sal: 108.12250707709487\n"
     ]
    }
   ],
   "source": [
    "import statsmodels.api as sm\n",
    "import statsmodels.stats.contingency_tables as ct\n",
    "from statsmodels.graphics.gofplots import qqplot\n",
    "from statsmodels.stats.weightstats import ztest\n",
    "\n",
    "# create dataframe of salary(K) for 2 business groups\n",
    "np.random.seed(123)\n",
    "marketing = np.random.normal(106,2,40) # mean 106, std dev 2, sample 40\n",
    "finance = np.random.normal(108,1,40) # mean 108, std dev 1, sample 40\n",
    "marketingLst = marketing.tolist()\n",
    "financeLst = finance.tolist()\n",
    "salData = pd.DataFrame({'marketing':marketingLst, \n",
    "                        'finance':financeLst})\n",
    "print('marketing median sal:', salData['marketing'].median(), '\\n' \n",
    "      'finance median sal:', salData['finance'].median())"
   ]
  },
  {
   "cell_type": "code",
   "execution_count": 211,
   "metadata": {},
   "outputs": [
    {
     "data": {
      "image/png": "[encoded data removed]",
      "text/plain": [
       "<Figure size 288x288 with 1 Axes>"
      ]
     },
     "metadata": {
      "needs_background": "light"
     },
     "output_type": "display_data"
    }
   ],
   "source": [
    "# combine the 2 lists to get overall salary distribution\n",
    "marketingLst.extend(financeLst)\n",
    "salFrame = pd.DataFrame(marketingLst,columns=['salary'])\n",
    "# check normality\n",
    "fig, ax = plt.subplots(figsize=(4,4))\n",
    "qqplot(salFrame['salary'], fit=True, line='s',ax=ax)\n",
    "plt.show()"
   ]
  },
  {
   "cell_type": "code",
   "execution_count": 213,
   "metadata": {},
   "outputs": [
    {
     "name": "stdout",
     "output_type": "stream",
     "text": [
      "zscore: -5.508324409386266 p-value: 3.6226534235582006e-08\n"
     ]
    }
   ],
   "source": [
    "# ztest\n",
    "# z-score, p-value\n",
    "zScore, pValue = ztest(salData['marketing'], salData['finance'])\n",
    "print('zscore:', zScore, 'p-value:', pValue)"
   ]
  },
  {
   "cell_type": "markdown",
   "metadata": {},
   "source": [
    "Interpretation of results:\n",
    "The null hypothesis is rejected, with a p-value less than 0.05. There is a significant difference in the mean salary between the two groups."
   ]
  },
  {
   "cell_type": "markdown",
   "metadata": {},
   "source": [
    "# t-test\n",
    "* Similar to z-test, but is applicable for when sample size is less than 30\n",
    "* little difference between z-test & t-test if sample sizes are large\n",
    "* assumes sample follows a normal distribution with unknown mean & variance\n",
    "* One sample t-test compares the mean with a population value\n",
    "* Two sample t-test tests if the means of two samples are equal\n",
    "* Differentiated by equal variance t-test and non-equal variance t-test (i.e. Welch’s test)"
   ]
  },
  {
   "cell_type": "markdown",
   "metadata": {},
   "source": [
    "### t-test example 1 (one-sample)\n",
    "Is there a difference between the mean of marketing group salary with the company mean salary?"
   ]
  },
  {
   "cell_type": "code",
   "execution_count": 215,
   "metadata": {},
   "outputs": [
    {
     "name": "stdout",
     "output_type": "stream",
     "text": [
      "marketing2 skew: 0.022653680547844147 \n",
      "finance2 skew: 0.40441143962841136\n",
      "marketing2 kurtosis: -0.5444692608577588 \n",
      "finance2 kurtosis: -0.2237789786289155\n"
     ]
    }
   ],
   "source": [
    "np.random.seed(42)\n",
    "marketing2 = np.random.normal(106,2,20) # mean 106, std dev 2, sample 20\n",
    "finance2 = np.random.normal(108,2,20) # mean 108, std dev 1, sample 20\n",
    "# Normality can be checked by shew and kurtosis besides qqplot\n",
    "# For normally distributed data, the skewness should be about zero.\n",
    "print('marketing2 skew:', stats.skew(marketing2), '\\n'\n",
    "      'finance2 skew:', stats.skew(finance2))\n",
    "# value of kurtosis measure for normal distr is 3\n",
    "print('marketing2 kurtosis:', stats.kurtosis(marketing2), '\\n'\n",
    "      'finance2 kurtosis:', stats.kurtosis(finance2))"
   ]
  },
  {
   "cell_type": "code",
   "execution_count": 216,
   "metadata": {},
   "outputs": [
    {
     "data": {
      "text/plain": [
       "Ttest_1sampResult(statistic=-0.7979664336555643, pvalue=0.434750588427116)"
      ]
     },
     "execution_count": 216,
     "metadata": {},
     "output_type": "execute_result"
    }
   ],
   "source": [
    "# 1 sample t-test, tests population mean salary 106\n",
    "stats.ttest_1samp(a=marketing2, popmean=106)\n"
   ]
  },
  {
   "cell_type": "markdown",
   "metadata": {},
   "source": [
    "### Interpretation of results:\n",
    "With a p-value greater than 0.05, fail to reject the null hypothesis of the mean salary of the population being 106."
   ]
  },
  {
   "cell_type": "markdown",
   "metadata": {},
   "source": [
    "### t-test example 2 (two-sample; similar variance)\n",
    "Is there a difference in the mean salaries between the two groups?"
   ]
  },
  {
   "cell_type": "code",
   "execution_count": 218,
   "metadata": {},
   "outputs": [
    {
     "data": {
      "text/plain": [
       "0.983518952085017"
      ]
     },
     "execution_count": 218,
     "metadata": {},
     "output_type": "execute_result"
    }
   ],
   "source": [
    "# check if variance similar\n",
    "np.var(marketing2)/np.var(finance2)"
   ]
  },
  {
   "cell_type": "code",
   "execution_count": 219,
   "metadata": {},
   "outputs": [
    {
     "data": {
      "text/plain": [
       "Ttest_indResult(statistic=-2.9696677632634105, pvalue=0.0051419940594444)"
      ]
     },
     "execution_count": 219,
     "metadata": {},
     "output_type": "execute_result"
    }
   ],
   "source": [
    "#With the ratio of the variance is less than 4:1, perform the t-test, else, perform Welch’s t-test (i.e. set equal_var to False.)\n",
    "# Can assume equal variance\n",
    "stats.ttest_ind(a=marketing2, b=finance2, equal_var=True)"
   ]
  },
  {
   "cell_type": "markdown",
   "metadata": {},
   "source": [
    "# Pearson correlation\n",
    "## Correlation coefficients give a measure of the linear relationship between the two variables. If using .corr() via pandas, the default correlation method is Pearson.\n",
    "* The range between negative one to one (negative to positive correlation respectively)\n",
    "* the formula for calculating the correlation coefficient standardizes the variables, changes in scale or units of measurement will not affect its value.\n",
    "## Pearson correlation is a measure of the strength and direction of the linear relationship between two continuous variables. It relies on four key assumptions:\n",
    "* Data is interval or ratio. These types of continuous data are important for how correlation assumes values in variables are related. Ordinal or Categorical variable coding won’t work.\n",
    "* Pearson only works with linear data.\n",
    "* No outliers in data.\n",
    "* Data is normally distributed.\n",
    "* Data must be homoscedastic. Homoscedasticity assumes that data is equally distributed about the regression line\n",
    "## Spearman correlation is non-parametric. It relies on nearly all the same assumptions as Pearson, but it doesn’t rely on normality. The scores on one variable must be monotonically related to the other variable. Can be used on pairs of continuous (that don’t follow linear relationship) or ordinal variables.\n",
    "## Kendall rank correlation is non-parametric. It measures the strength of dependence between two variables. It can be used with ordinal or continuous data.\n",
    "## Effect strength: Cohen’s standard may be applied to the coefficient to determine the strength of the effect.\n"
   ]
  },
  {
   "cell_type": "markdown",
   "metadata": {},
   "source": [
    "# Paired t-test\n",
    "* Determines if there is a statistically significant difference between paired continuous variables.\n",
    "* between two dependent samples (e.g. test scores before and after)\n",
    "* tests whether the changes tend to be in the positive or negative direction"
   ]
  },
  {
   "cell_type": "code",
   "execution_count": null,
   "metadata": {},
   "outputs": [],
   "source": []
  },
  {
   "cell_type": "code",
   "execution_count": null,
   "metadata": {},
   "outputs": [],
   "source": []
  }
 ],
 "metadata": {
  "kernelspec": {
   "display_name": "Python 3",
   "language": "python",
   "name": "python3"
  },
  "language_info": {
   "codemirror_mode": {
    "name": "ipython",
    "version": 3
   },
   "file_extension": ".py",
   "mimetype": "text/x-python",
   "name": "python",
   "nbconvert_exporter": "python",
   "pygments_lexer": "ipython3",
   "version": "3.8.5"
  }
 },
 "nbformat": 4,
 "nbformat_minor": 4
}
